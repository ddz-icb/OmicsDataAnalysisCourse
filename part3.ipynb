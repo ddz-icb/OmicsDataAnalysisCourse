{
  "nbformat": 4,
  "nbformat_minor": 0,
  "metadata": {
    "colab": {
      "provenance": []
    },
    "kernelspec": {
      "name": "ir",
      "display_name": "R"
    },
    "language_info": {
      "name": "R"
    }
  },
  "cells": [
    {
      "cell_type": "markdown",
      "source": [
        "# **Importing data & pre-processing**\n",
        "Import data from GitHub & set row names (same as in part1):"
      ],
      "metadata": {
        "id": "3YFbsfFlC8ib"
      }
    },
    {
      "cell_type": "code",
      "source": [
        "# import file with NOT normalized expression data\n",
        "dat.abundances <- read.table(\"https://raw.githubusercontent.com/ddz-icb/OmicsDataAnalysisCourse/main/data/dat.abundances.txt\",\n",
        "                            header=T,\n",
        "                            sep=\"\\t\")\n",
        "rownames(dat.abundances) <- dat.abundances[,1]        # set rownames to IDs from first column\n",
        "dat.abundances <- data.matrix(dat.abundances[,-1])    # delete first column and change \"data frame\" to numeric \"data matrix\"\n",
        "\n",
        "\n",
        "\n",
        "# import file with normalized data and extended information\n",
        "dat.ext <- read.table(\"https://raw.githubusercontent.com/ddz-icb/OmicsDataAnalysisCourse/main/data/dat.ext.txt\",\n",
        "                            header=T,\n",
        "                            sep=\"\\t\")"
      ],
      "metadata": {
        "id": "qAfZt-AuDBM9"
      },
      "execution_count": 1,
      "outputs": []
    },
    {
      "cell_type": "markdown",
      "source": [
        "Keep only phosphorylated peptides (same as in part1):"
      ],
      "metadata": {
        "id": "esdvd910DKhs"
      }
    },
    {
      "cell_type": "code",
      "source": [
        "# give row numbers with phosphopeptides\n",
        "phospep.idx <- grep(\"Phospho\", dat.ext$Modifications)   # grep() gives all row numbers containing the given pattern in column 'Modifications'\n",
        "\n",
        "# keep only phospopeptides\n",
        "dat.abundances <- dat.abundances[phospep.idx,]\n",
        "#dat.nonorm <- dat.nonorm[phospep.idx,]\n",
        "dat.ext <- dat.ext[phospep.idx,]"
      ],
      "metadata": {
        "id": "mIcW68O6DUoy"
      },
      "execution_count": 2,
      "outputs": []
    },
    {
      "cell_type": "markdown",
      "source": [
        "In part1, we have determined that the normalization results of the device software are OK and that we can use them. Therefore, we do not need to perform our own raw data normalization. However, we want to perform a group-specific imputation and replace isolated missing values to avoid excluding almost completely quantified phosphopeptides in some analysis steps. For this, the same imputation as in part1 is performed."
      ],
      "metadata": {
        "id": "EftB8jGNDcND"
      }
    },
    {
      "cell_type": "code",
      "source": [
        "# Give row vectors with group-specific column numbers\n",
        "basal.idx <- grep(\"Basal\", colnames(dat.abundances))\n",
        "insulin.idx <- grep(\"Insulin\", colnames(dat.abundances))\n",
        "\n",
        "\n",
        "\n",
        "dat.abundances2 <- dat.abundances\n",
        "for(i in 1:nrow(dat.abundances2)){\n",
        "    if(sum(is.na(dat.abundances2[i,basal.idx])) == 1){\n",
        "      na.idx <- which(is.na(dat.abundances2[i,basal.idx]))\n",
        "      dat.abundances2[i, basal.idx[na.idx]] <- mean(dat.abundances2[i, basal.idx], na.rm=T)\n",
        "    }\n",
        "\n",
        "    if(sum(is.na(dat.abundances2[i,insulin.idx])) == 1){\n",
        "      na.idx <- which(is.na(dat.abundances2[i,insulin.idx]))\n",
        "      dat.abundances2[i, insulin.idx[na.idx]] <- mean(dat.abundances2[i, insulin.idx], na.rm=T)\n",
        "    }\n",
        "}\n",
        "nrow(dat.abundances)\n",
        "nrow(na.omit(dat.abundances))   # na.omit() removes rows with at least on 'NA'\n",
        "nrow(na.omit(dat.abundances2))\n",
        "\n",
        "dat.abundances2 <- na.omit(dat.abundances2)   # delete phosphopeptides that still have missing values despite imputation"
      ],
      "metadata": {
        "colab": {
          "base_uri": "https://localhost:8080/",
          "height": 69
        },
        "id": "3RsaxgPYDkwt",
        "outputId": "b4a4b423-a327-4e9f-ac74-071b1313b268"
      },
      "execution_count": 3,
      "outputs": [
        {
          "output_type": "display_data",
          "data": {
            "text/html": [
              "15210"
            ],
            "text/markdown": "15210",
            "text/latex": "15210",
            "text/plain": [
              "[1] 15210"
            ]
          },
          "metadata": {}
        },
        {
          "output_type": "display_data",
          "data": {
            "text/html": [
              "9927"
            ],
            "text/markdown": "9927",
            "text/latex": "9927",
            "text/plain": [
              "[1] 9927"
            ]
          },
          "metadata": {}
        },
        {
          "output_type": "display_data",
          "data": {
            "text/html": [
              "12044"
            ],
            "text/markdown": "12044",
            "text/latex": "12044",
            "text/plain": [
              "[1] 12044"
            ]
          },
          "metadata": {}
        }
      ]
    },
    {
      "cell_type": "markdown",
      "source": [
        "# **Identification of differential candidates**\n",
        "Calculate p-values and fold changes in order to identify differential candidates (same as in part2)."
      ],
      "metadata": {
        "id": "8xaBMlmtDvTO"
      }
    },
    {
      "cell_type": "code",
      "source": [
        "phospep.number <- nrow(dat.abundances2)\n",
        "\n",
        "# define empty vectors for storing...\n",
        "fc <- vector(length=phospep.number, mode=\"numeric\")\n",
        "p.val <- vector(length=phospep.number, mode=\"numeric\")\n",
        "p.val.adj <- vector(length=phospep.number, mode=\"numeric\")\n",
        "\n",
        "# adopt IDs of vector elements from row IDs of dat.abundances2\n",
        "names(fc) <- rownames(dat.abundances2)\n",
        "names(p.val) <- rownames(dat.abundances2)\n",
        "names(p.val.adj) <- rownames(dat.abundances2)\n",
        "\n",
        "\n",
        "\n",
        "# Calculate fold changes\n",
        "for(i in 1:phospep.number){\n",
        "    basal.mean <- mean(dat.abundances2[i, basal.idx])\n",
        "    insulin.mean <- mean(dat.abundances2[i, insulin.idx])\n",
        "\n",
        "    fc[i] <- insulin.mean / basal.mean\n",
        "}\n",
        "\n",
        "\n",
        "\n",
        "# Calculate p-values and adjusted p-values\n",
        "for(i in 1:phospep.number){\n",
        "    p.val[i] <- t.test(log2(dat.abundances2[i, basal.idx]), log2(dat.abundances2[i, insulin.idx]))$p.value\n",
        "}\n",
        "p.val.adj <- p.adjust(p.val, method=\"fdr\")\n",
        "\n",
        "\n",
        "\n",
        "# Give row numbers of candidates with both large log-fold change and low adj. p-value\n",
        "diff.idx1 <- which(abs(log2(fc)) > 1)         # trick: via absolute value of log2(fc) we get both phosphopeptides with fc > 2 or 1/2\n",
        "diff.idx2 <- which(p.val.adj < 0.05)          # gives row indices of phosphopeptides with adj. p-value < 0.05\n",
        "diff.idx <- intersect(diff.idx1, diff.idx2)   # intersection gives row indices of differential candidates"
      ],
      "metadata": {
        "id": "plLfmrBEEmrb"
      },
      "execution_count": 4,
      "outputs": []
    },
    {
      "cell_type": "markdown",
      "source": [
        "# **Hierarchical clustering & heat maps**\n",
        "In order to perform hierarchical clustering..."
      ],
      "metadata": {
        "id": "yGEDHrG4GWgN"
      }
    },
    {
      "cell_type": "code",
      "source": [
        "# Transpose data matrix to have samples in the rows and phosphopeptides in the columns.\n",
        "# This is needed, because the dist()-function computes distances between rows.\n",
        "dat.abundances3 <- t(dat.abundances2)\n",
        "\n",
        "# Scale the columns to make them more comparable, i.e. subtract from each value\n",
        "# its column-specific mean and divide by its column-specific standard deviation.\n",
        "dat.abundances3 <- scale(dat.abundances3)\n",
        "\n",
        "# Compute distances and hierarchical clustering dendrogram\n",
        "d1 <- dist(dat.abundances3, method=\"euclidean\")\n",
        "hc1 <- as.dendrogram(hclust(d1, method=\"complete\"), hang=0.1)\n",
        "\n",
        "# Visualize the dendrogram\n",
        "options(repr.plot.width=10, repr.plot.height=10)\n",
        "plot(hc1)"
      ],
      "metadata": {
        "id": "9D1CU-fWecls"
      },
      "execution_count": null,
      "outputs": []
    },
    {
      "cell_type": "markdown",
      "source": [
        "To improve the visualization of hierarchical clustering results various R packages can be used. Here the package \"dendextend\" will be used since it provides a relatively simple syntax.  "
      ],
      "metadata": {
        "id": "_3-Cmj-1dhEI"
      }
    },
    {
      "cell_type": "code",
      "source": [
        " install.packages(\"dendextend\")\n",
        " library(dendextend)"
      ],
      "metadata": {
        "id": "RHva-Jr-WqKe"
      },
      "execution_count": null,
      "outputs": []
    },
    {
      "cell_type": "markdown",
      "source": [
        "Improved hierarchical clustering:"
      ],
      "metadata": {
        "id": "5yw5RxPEdUah"
      }
    },
    {
      "cell_type": "code",
      "source": [
        "# Compute euclidean distances\n",
        "d1 <- dist(dat.abundances3, method=\"euclidean\")\n",
        "d2 <- dist(dat.abundances3[,diff.idx], method=\"euclidean\")\n",
        "\n",
        "# Compute hierarchical clustering using complete linkage\n",
        "hc1 <- as.dendrogram(hclust(d1, method=\"complete\"), hang=0.1)\n",
        "hc2 <- as.dendrogram(hclust(d2, method=\"complete\"), hang=0.1)\n",
        "\n",
        "# set label colors and label sizes\n",
        "labels_colors(hc1) <- c(rep(\"red\",4), rep(\"blue\",4))\n",
        "labels_colors(hc2) <- c(rep(\"red\",4), rep(\"blue\",4))\n",
        "labels_cex(hc1) <- 2.5\n",
        "labels_cex(hc2) <- 2.5\n",
        "\n",
        "options(repr.plot.width=20, repr.plot.height=10)\n",
        "par(mar=c(5, 4, 4, 2) + 1, mfrow=c(1,2))\n",
        "plot(x=hc1,\n",
        "     main=\"Cluster dendrogram\",   # plot title\n",
        "     ylab=\"Height\",   # axis title\n",
        "     cex.lab=2.0,     # size of axis title\n",
        "     cex.axis=2.0,    # size of axis labels\n",
        "     cex.main=3.0     # size of plot title\n",
        "     )\n",
        "plot(x=hc2,\n",
        "     main=\"Cluster dendrogram (diff. candidates)\",\n",
        "     ylab=\"Height\",\n",
        "     cex.lab=2.0,\n",
        "     cex.axis=2.0,\n",
        "     cex.main=3.0\n",
        "     )"
      ],
      "metadata": {
        "id": "Lk9h_iUiCyJP"
      },
      "execution_count": null,
      "outputs": []
    },
    {
      "cell_type": "markdown",
      "source": [
        "Simple heat map"
      ],
      "metadata": {
        "id": "cM7Wrvt7C2yY"
      }
    },
    {
      "cell_type": "code",
      "source": [
        "nrow(dat.abundances2)\n",
        "heatmap(dat.abundances2, scale=\"row\")"
      ],
      "metadata": {
        "id": "GIJzcHS1omNR"
      },
      "execution_count": null,
      "outputs": []
    },
    {
      "cell_type": "markdown",
      "source": [
        "Improved heat map:"
      ],
      "metadata": {
        "id": "5mHM3gp7orG8"
      }
    },
    {
      "cell_type": "code",
      "source": [
        "length(diff.idx)\n",
        "\n",
        "\n",
        "d.fun1 = function(c) dist(c, method=\"manhattan\")\n",
        "d.fun2 = function(c) as.dist(1-cor(t(c)))\n",
        "\n",
        "hc.fun1 <- function(d) hclust(d, method=\"complete\")\n",
        "\n",
        "options(repr.plot.width=10, repr.plot.height=10)\n",
        "heatmap(dat.abundances2[diff.idx,], scale=\"row\", distfun=d.fun1, hclustfun=hc.fun1, cexCol=2.5, margins=c(8,8))\n",
        "heatmap(dat.abundances2[diff.idx,], scale=\"row\", distfun=d.fun2, hclustfun=hc.fun1, cexCol=2.5, margins=c(8,8))"
      ],
      "metadata": {
        "id": "u60u9wwUGbwY"
      },
      "execution_count": null,
      "outputs": []
    },
    {
      "cell_type": "markdown",
      "source": [
        "# **PCA**\n",
        "Basic PCA computation and results visualization:"
      ],
      "metadata": {
        "id": "5Nonsmd7vsXF"
      }
    },
    {
      "cell_type": "code",
      "source": [
        "# Perform PCA with the function prComp(). Since it computes principal components\n",
        "# for the columns of a data matrix we need to transpose the data first via t().\n",
        "# Moreover, we scale the distributions of the phosphopeptides to make them more\n",
        "# comparable and get better results.\n",
        "pcdat <- prcomp(t(dat.abundances2), center=TRUE, scale=TRUE)\n",
        "\n",
        "# The computed principal components are stored in matrix 'x' stored in the\n",
        "# results object. Because they are sorted according to data variance, the first\n",
        "# principal two components differentiate the data points (here: samples) most\n",
        "# clearly.\n",
        "pc <- pcdat$x\n",
        "print(pc)\n",
        "\n",
        "# To visualize the results\n",
        "par(mar=c(5, 4, 4, 2) + 1)\n",
        "plot(pc[,1],\n",
        "     pc[,2],\n",
        "     xlab=colnames(pc)[1],\n",
        "     ylab=colnames(pc)[1],\n",
        "     main=\"PCA\",\n",
        "     cex=3,\n",
        "     cex.axis=2,\n",
        "     cex.lab=2,\n",
        "     cex.main=3)"
      ],
      "metadata": {
        "id": "gYm0Hk-lijNu"
      },
      "execution_count": null,
      "outputs": []
    },
    {
      "cell_type": "markdown",
      "source": [
        "Improved PCA computation and results visualization."
      ],
      "metadata": {
        "id": "OAC7rrkTilei"
      }
    },
    {
      "cell_type": "code",
      "source": [
        "pcdat <- prcomp(t(dat.abundances2), center=TRUE, scale=TRUE)\n",
        "#pcdat <- prcomp(t(dat.abundances2[diff.idx,]), center=TRUE, scale=TRUE)\n",
        "scores <- pcdat$x\n",
        "\n",
        "print(scores)\n",
        "\n",
        "Xlab <- paste0(\"PC1 (\", round(summary(pcdat)$importance[2,1]*100, 2), \"%)\")\n",
        "Ylab <- paste0(\"PC2 (\", round(summary(pcdat)$importance[2,2]*100, 2), \"%)\")\n",
        "\n",
        "par(mar=c(5, 4, 4, 2) + 1)\n",
        "plot(scores[,1], scores[,2], xlab=Xlab, ylab=Ylab, cex=3, cex.axis=2, cex.lab=2)\n",
        "points(scores[basal.idx,1], scores[basal.idx,2], cex=3, pch=19, col=\"blue\")\n",
        "points(scores[insulin.idx,1], scores[insulin.idx,2], cex=3, pch=19, col=\"red\")\n",
        "text(scores[basal.idx,1], scores[basal.idx,2], labels=rownames(scores)[basal.idx], pos=4, offset=1, cex=2, col=\"blue\")\n",
        "text(scores[insulin.idx,1], scores[insulin.idx,2], labels=rownames(scores)[insulin.idx], pos=2, offset=1, cex=2, col=\"red\")"
      ],
      "metadata": {
        "id": "R1Nm-iaPv04W"
      },
      "execution_count": null,
      "outputs": []
    }
  ]
}