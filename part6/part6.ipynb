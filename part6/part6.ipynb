{
  "nbformat": 4,
  "nbformat_minor": 0,
  "metadata": {
    "colab": {
      "provenance": []
    },
    "kernelspec": {
      "name": "ir",
      "display_name": "R"
    },
    "language_info": {
      "name": "R"
    }
  },
  "cells": [
    {
      "cell_type": "markdown",
      "source": [
        "# **Importing data & pre-processing**\n",
        "Import data from GitHub & set row names (same as in part1):"
      ],
      "metadata": {
        "id": "okl5d_4-RPGC"
      }
    },
    {
      "cell_type": "code",
      "execution_count": 6,
      "metadata": {
        "id": "6cUJCZ50Q3YY"
      },
      "outputs": [],
      "source": [
        "# import file with NOT normalized expression data\n",
        "dat.abundances <- read.table(\"https://raw.githubusercontent.com/ddz-icb/OmicsDataAnalysisCourse/main/data/dat.abundances.txt\",\n",
        "                            header=T,\n",
        "                            sep=\"\\t\")\n",
        "rownames(dat.abundances) <- dat.abundances[,1]        # set rownames to IDs from first column\n",
        "dat.abundances <- data.matrix(dat.abundances[,-1])    # delete first column and change \"data frame\" to numeric \"data matrix\"\n",
        "\n",
        "\n",
        "\n",
        "# import file with normalized data and extended information\n",
        "dat.ext <- read.table(\"https://raw.githubusercontent.com/ddz-icb/OmicsDataAnalysisCourse/main/data/dat.ext.txt\",\n",
        "                            header=T,\n",
        "                            sep=\"\\t\")"
      ]
    },
    {
      "cell_type": "markdown",
      "source": [
        "Keep only phosphorylated peptides (same as in part1):"
      ],
      "metadata": {
        "id": "091LX_pDRYip"
      }
    },
    {
      "cell_type": "code",
      "source": [
        "# give row numbers with phosphopeptides\n",
        "phospep.idx <- grep(\"Phospho\", dat.ext$Modifications)   # grep() gives all row numbers containing the given pattern in column 'Modifications'\n",
        "\n",
        "# keep only phospopeptides\n",
        "dat.abundances <- dat.abundances[phospep.idx,]\n",
        "#dat.nonorm <- dat.nonorm[phospep.idx,]\n",
        "dat.ext <- dat.ext[phospep.idx,]"
      ],
      "metadata": {
        "id": "dK6gFE7mRc-Y"
      },
      "execution_count": 7,
      "outputs": []
    },
    {
      "cell_type": "markdown",
      "source": [
        "In part1, we have determined that the normalization results of the device software are OK and that we can use them. Therefore, we do not need to perform our own raw data normalization. However, we want to perform a group-specific imputation and replace isolated missing values to avoid excluding almost completely quantified phosphopeptides in some analysis steps. For this, the same imputation as in part1 is performed."
      ],
      "metadata": {
        "id": "OAgCHu05RgIM"
      }
    },
    {
      "cell_type": "code",
      "source": [
        "# Give row vectors with group-specific column numbers\n",
        "basal.idx <- grep(\"Basal\", colnames(dat.abundances))\n",
        "insulin.idx <- grep(\"Insulin\", colnames(dat.abundances))\n",
        "\n",
        "\n",
        "\n",
        "dat.abundances2 <- dat.abundances\n",
        "for(i in 1:nrow(dat.abundances2)){\n",
        "    if(sum(is.na(dat.abundances2[i,basal.idx])) == 1){\n",
        "      na.idx <- which(is.na(dat.abundances2[i,basal.idx]))\n",
        "      dat.abundances2[i, basal.idx[na.idx]] <- mean(dat.abundances2[i, basal.idx], na.rm=T)\n",
        "    }\n",
        "\n",
        "    if(sum(is.na(dat.abundances2[i,insulin.idx])) == 1){\n",
        "      na.idx <- which(is.na(dat.abundances2[i,insulin.idx]))\n",
        "      dat.abundances2[i, insulin.idx[na.idx]] <- mean(dat.abundances2[i, insulin.idx], na.rm=T)\n",
        "    }\n",
        "}\n",
        "nrow(dat.abundances)\n",
        "nrow(na.omit(dat.abundances))   # na.omit() removes rows with at least on 'NA'\n",
        "nrow(na.omit(dat.abundances2))\n",
        "\n",
        "dat.abundances2 <- na.omit(dat.abundances2)   # delete phosphopeptides that still have missing values despite imputation"
      ],
      "metadata": {
        "id": "UUlpriK-Rkek"
      },
      "execution_count": null,
      "outputs": []
    },
    {
      "cell_type": "markdown",
      "source": [
        "# **Identification of differential candidates**\n",
        "Calculate p-values and fold changes in order to identify differential candidates (same as in part2)."
      ],
      "metadata": {
        "id": "goytpK-ERpNB"
      }
    },
    {
      "cell_type": "code",
      "source": [
        "phospep.number <- nrow(dat.abundances2)\n",
        "\n",
        "# define empty vectors for storing...\n",
        "fc <- vector(length=phospep.number, mode=\"numeric\")\n",
        "p.val <- vector(length=phospep.number, mode=\"numeric\")\n",
        "p.val.adj <- vector(length=phospep.number, mode=\"numeric\")\n",
        "\n",
        "# adopt IDs of vector elements from row IDs of dat.abundances2\n",
        "names(fc) <- rownames(dat.abundances2)\n",
        "names(p.val) <- rownames(dat.abundances2)\n",
        "names(p.val.adj) <- rownames(dat.abundances2)\n",
        "\n",
        "\n",
        "\n",
        "# Calculate fold changes\n",
        "for(i in 1:phospep.number){\n",
        "    basal.mean <- mean(dat.abundances2[i, basal.idx])\n",
        "    insulin.mean <- mean(dat.abundances2[i, insulin.idx])\n",
        "\n",
        "    fc[i] <- insulin.mean / basal.mean\n",
        "}\n",
        "\n",
        "\n",
        "\n",
        "# Calculate p-values and adjusted p-values\n",
        "for(i in 1:phospep.number){\n",
        "    p.val[i] <- t.test(log2(dat.abundances2[i, basal.idx]), log2(dat.abundances2[i, insulin.idx]))$p.value\n",
        "}\n",
        "p.val.adj <- p.adjust(p.val, method=\"fdr\")\n",
        "\n",
        "\n",
        "\n",
        "# Give row numbers of candidates with both large log-fold change and low adj. p-value\n",
        "diff.idx1 <- which(abs(log2(fc)) > 1)         # trick: via absolute value of log2(fc) we get both phosphopeptides with fc > 2 or 1/2\n",
        "diff.idx2 <- which(p.val.adj < 0.05)          # gives row indices of phosphopeptides with adj. p-value < 0.05\n",
        "diff.idx <- intersect(diff.idx1, diff.idx2)   # intersection gives row indices of differential candidates\n",
        "print(length(diff.idx))\n",
        "\n",
        "# Give row numbers of candidates with more stringent thresholds\n",
        "diff.idx1 <- which(abs(log2(fc)) > 1.25)\n",
        "diff.idx2 <- which(p.val.adj < 0.005)\n",
        "diff.idx <- intersect(diff.idx1, diff.idx2)\n",
        "print(length(diff.idx))"
      ],
      "metadata": {
        "id": "FkSVyBO4RxnD"
      },
      "execution_count": null,
      "outputs": []
    },
    {
      "cell_type": "markdown",
      "source": [
        "# **Decision trees in R**\n",
        "There are various R packages for training decision trees and using them for classification. One of the most user friendly is rpart. Rpart has also the advanatage that it is already pre-installed in Google Colab. We only need to install the rpart-extension \"rpart.plot\"."
      ],
      "metadata": {
        "id": "QXjmck6yR_L_"
      }
    },
    {
      "cell_type": "code",
      "source": [
        "setRepositories(ind=1:5)\n",
        "install.packages(\"rpart.plot\")\n",
        "\n",
        "#library(rpart)\n",
        "library(rpart.plot)\n"
      ],
      "metadata": {
        "id": "1EyaX6spSrK8"
      },
      "execution_count": null,
      "outputs": []
    },
    {
      "cell_type": "markdown",
      "source": [
        "Preparing a class vector:"
      ],
      "metadata": {
        "id": "MaD4Q2Iq85q8"
      }
    },
    {
      "cell_type": "code",
      "source": [
        "colnames(dat.abundances2)\n",
        "classes <- gsub(\"\\\\d+\", \"\", colnames(dat.abundances2))\n",
        "print(classes)"
      ],
      "metadata": {
        "id": "DlnUakyQSAPm"
      },
      "execution_count": null,
      "outputs": []
    },
    {
      "cell_type": "markdown",
      "source": [
        "Preparing the training data:"
      ],
      "metadata": {
        "id": "at0ACc3FTg-Y"
      }
    },
    {
      "cell_type": "code",
      "source": [
        "rpartdat <- data.frame(classes, t(dat.abundances2), stringsAsFactors=TRUE)\n",
        "rpartdat[,1:10]"
      ],
      "metadata": {
        "id": "GbwAqgtpTiLR"
      },
      "execution_count": null,
      "outputs": []
    },
    {
      "cell_type": "markdown",
      "source": [
        "Fitting the tree model:"
      ],
      "metadata": {
        "id": "eoXjNEkdT_wg"
      }
    },
    {
      "cell_type": "code",
      "source": [
        "rpart.model <- rpart(classes~., data=rpartdat, method=\"class\", minsplit=2)\n",
        "\n",
        "printcp(rpart.model) # display the results\n",
        "summary(rpart.model) # detailed summary of splits"
      ],
      "metadata": {
        "id": "XoMVFAhhWhUZ"
      },
      "execution_count": null,
      "outputs": []
    },
    {
      "cell_type": "markdown",
      "source": [
        "Visualization of the tree model:"
      ],
      "metadata": {
        "id": "a8ZIfLbyWiKd"
      }
    },
    {
      "cell_type": "code",
      "source": [
        "col.list <- list(\n",
        "  adjustcolor(\"navy\", alpha=0.3),\n",
        "  adjustcolor(\"red\", alpha=0.3),\n",
        "  adjustcolor(\"darkorchid\", alpha=0.3),\n",
        "  adjustcolor(\"darkgreen\", alpha=0.3)\n",
        ")\n",
        "\n",
        "options(repr.plot.width=10, repr.plot.height=10)\n",
        "rpart.plot(rpart.model, roundint=F, type=2, extra=101, cex=1.5, box.palette=col.list)"
      ],
      "metadata": {
        "id": "9uicVFXSUANf"
      },
      "execution_count": null,
      "outputs": []
    },
    {
      "cell_type": "markdown",
      "source": [
        "To check whether the selected feature \"Q5HZI1_peptide1\" is differential & whether the thresold in the tree is valid a scatter plot may be used:"
      ],
      "metadata": {
        "id": "PJ5ciVWBXna3"
      }
    },
    {
      "cell_type": "code",
      "source": [
        "options(repr.plot.width=10, repr.plot.height=10)\n",
        "plot(dat.abundances2[\"Q5HZI1_peptide1\", ], cex=3)\n",
        "text(dat.abundances2[\"Q5HZI1_peptide1\", ], labels=colnames(dat.abundances2), pos=3, offset=1, cex=1.25)"
      ],
      "metadata": {
        "id": "ahSt00UWXpSb"
      },
      "execution_count": null,
      "outputs": []
    },
    {
      "cell_type": "markdown",
      "source": [
        "Predict data:"
      ],
      "metadata": {
        "id": "yZGr6cGAcaFm"
      }
    },
    {
      "cell_type": "code",
      "source": [
        "predict(object=rpart.model, newdata=rpartdat)"
      ],
      "metadata": {
        "id": "nWprSBzFcgD3"
      },
      "execution_count": null,
      "outputs": []
    },
    {
      "cell_type": "markdown",
      "source": [
        "Split into training & test set to fit the tree model with the training set and then to predict the test set samples:"
      ],
      "metadata": {
        "id": "bSuihMcTde_n"
      }
    },
    {
      "cell_type": "code",
      "source": [
        "classes2 <- classes[c(1,2,6,7)]\n",
        "rpartdat.train <- data.frame(classes2, t(dat.abundances2[diff.idx,c(1,2,6,7)]), stringsAsFactors=TRUE)\n",
        "rpartdat.train[,1:10]\n",
        "\n",
        "classes2 <- classes[c(3,4,7,8)]\n",
        "rpartdat.test <- data.frame(classes2, t(dat.abundances2[diff.idx,c(3,4,7,8)]), stringsAsFactors=TRUE)\n",
        "rpartdat.test[,1:10]"
      ],
      "metadata": {
        "id": "yC6REYI6d3Na"
      },
      "execution_count": null,
      "outputs": []
    },
    {
      "cell_type": "markdown",
      "source": [
        "Fit & visualize the tree model:"
      ],
      "metadata": {
        "id": "e6SwN80teZP_"
      }
    },
    {
      "cell_type": "code",
      "source": [
        "rpart.model2 <- rpart(classes2~., data=rpartdat.train, method=\"class\", minsplit=1)\n",
        "\n",
        "options(repr.plot.width=10, repr.plot.height=10)\n",
        "rpart.plot(rpart.model2, roundint=F, type=2, extra=101, cex=1.5, box.palette=col.list)"
      ],
      "metadata": {
        "id": "8UggoK6BecOb"
      },
      "execution_count": null,
      "outputs": []
    },
    {
      "cell_type": "markdown",
      "source": [
        "Classify the test set:"
      ],
      "metadata": {
        "id": "TuJ7XUnjgL2H"
      }
    },
    {
      "cell_type": "code",
      "source": [
        "predict(object=rpart.model2, newdata=rpartdat.test)"
      ],
      "metadata": {
        "id": "_JeNxf5agRRb"
      },
      "execution_count": null,
      "outputs": []
    }
  ]
}