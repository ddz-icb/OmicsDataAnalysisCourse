{
  "nbformat": 4,
  "nbformat_minor": 0,
  "metadata": {
    "colab": {
      "provenance": []
    },
    "kernelspec": {
      "name": "ir",
      "display_name": "R"
    },
    "language_info": {
      "name": "R"
    }
  },
  "cells": [
    {
      "cell_type": "markdown",
      "source": [
        "# **Importing data & pre-processing**\n",
        "Import data from GitHub & set row names (same as in part1):"
      ],
      "metadata": {
        "id": "okl5d_4-RPGC"
      }
    },
    {
      "cell_type": "code",
      "execution_count": 3,
      "metadata": {
        "id": "6cUJCZ50Q3YY"
      },
      "outputs": [],
      "source": [
        "# import file with NOT normalized expression data\n",
        "dat.abundances <- read.table(\"https://raw.githubusercontent.com/ddz-icb/OmicsDataAnalysisCourse/main/data/dat.abundances.txt\",\n",
        "                            header=T,\n",
        "                            sep=\"\\t\")\n",
        "rownames(dat.abundances) <- dat.abundances[,1]        # set rownames to IDs from first column\n",
        "dat.abundances <- data.matrix(dat.abundances[,-1])    # delete first column and change \"data frame\" to numeric \"data matrix\"\n",
        "\n",
        "\n",
        "\n",
        "# import file with normalized data and extended information\n",
        "dat.ext <- read.table(\"https://raw.githubusercontent.com/ddz-icb/OmicsDataAnalysisCourse/main/data/dat.ext.txt\",\n",
        "                            header=T,\n",
        "                            sep=\"\\t\")"
      ]
    },
    {
      "cell_type": "markdown",
      "source": [
        "Keep only phosphorylated peptides (same as in part1):"
      ],
      "metadata": {
        "id": "091LX_pDRYip"
      }
    },
    {
      "cell_type": "code",
      "source": [
        "# give row numbers with phosphopeptides\n",
        "phospep.idx <- grep(\"Phospho\", dat.ext$Modifications)   # grep() gives all row numbers containing the given pattern in column 'Modifications'\n",
        "\n",
        "# keep only phospopeptides\n",
        "dat.abundances <- dat.abundances[phospep.idx,]\n",
        "#dat.nonorm <- dat.nonorm[phospep.idx,]\n",
        "dat.ext <- dat.ext[phospep.idx,]"
      ],
      "metadata": {
        "id": "dK6gFE7mRc-Y"
      },
      "execution_count": 4,
      "outputs": []
    },
    {
      "cell_type": "markdown",
      "source": [
        "In part1, we have determined that the normalization results of the device software are OK and that we can use them. Therefore, we do not need to perform our own raw data normalization. However, we want to perform a group-specific imputation and replace isolated missing values to avoid excluding almost completely quantified phosphopeptides in some analysis steps. For this, the same imputation as in part1 is performed."
      ],
      "metadata": {
        "id": "OAgCHu05RgIM"
      }
    },
    {
      "cell_type": "code",
      "source": [
        "# Give row vectors with group-specific column numbers\n",
        "basal.idx <- grep(\"Basal\", colnames(dat.abundances))\n",
        "insulin.idx <- grep(\"Insulin\", colnames(dat.abundances))\n",
        "\n",
        "\n",
        "\n",
        "dat.abundances2 <- dat.abundances\n",
        "for(i in 1:nrow(dat.abundances2)){\n",
        "    if(sum(is.na(dat.abundances2[i,basal.idx])) == 1){\n",
        "      na.idx <- which(is.na(dat.abundances2[i,basal.idx]))\n",
        "      dat.abundances2[i, basal.idx[na.idx]] <- mean(dat.abundances2[i, basal.idx], na.rm=T)\n",
        "    }\n",
        "\n",
        "    if(sum(is.na(dat.abundances2[i,insulin.idx])) == 1){\n",
        "      na.idx <- which(is.na(dat.abundances2[i,insulin.idx]))\n",
        "      dat.abundances2[i, insulin.idx[na.idx]] <- mean(dat.abundances2[i, insulin.idx], na.rm=T)\n",
        "    }\n",
        "}\n",
        "nrow(dat.abundances)\n",
        "nrow(na.omit(dat.abundances))   # na.omit() removes rows with at least on 'NA'\n",
        "nrow(na.omit(dat.abundances2))\n",
        "\n",
        "dat.abundances2 <- na.omit(dat.abundances2)   # delete phosphopeptides that still have missing values despite imputation"
      ],
      "metadata": {
        "id": "UUlpriK-Rkek"
      },
      "execution_count": null,
      "outputs": []
    },
    {
      "cell_type": "markdown",
      "source": [
        "# **Identification of differential candidates**\n",
        "Calculate p-values and fold changes in order to identify differential candidates (same as in part2)."
      ],
      "metadata": {
        "id": "goytpK-ERpNB"
      }
    },
    {
      "cell_type": "code",
      "source": [
        "phospep.number <- nrow(dat.abundances2)\n",
        "\n",
        "# define empty vectors for storing...\n",
        "fc <- vector(length=phospep.number, mode=\"numeric\")\n",
        "p.val <- vector(length=phospep.number, mode=\"numeric\")\n",
        "p.val.adj <- vector(length=phospep.number, mode=\"numeric\")\n",
        "\n",
        "# adopt IDs of vector elements from row IDs of dat.abundances2\n",
        "names(fc) <- rownames(dat.abundances2)\n",
        "names(p.val) <- rownames(dat.abundances2)\n",
        "names(p.val.adj) <- rownames(dat.abundances2)\n",
        "\n",
        "\n",
        "\n",
        "# Calculate fold changes\n",
        "for(i in 1:phospep.number){\n",
        "    basal.mean <- mean(dat.abundances2[i, basal.idx])\n",
        "    insulin.mean <- mean(dat.abundances2[i, insulin.idx])\n",
        "\n",
        "    fc[i] <- insulin.mean / basal.mean\n",
        "}\n",
        "\n",
        "\n",
        "\n",
        "# Calculate p-values and adjusted p-values\n",
        "for(i in 1:phospep.number){\n",
        "    p.val[i] <- t.test(log2(dat.abundances2[i, basal.idx]), log2(dat.abundances2[i, insulin.idx]))$p.value\n",
        "}\n",
        "p.val.adj <- p.adjust(p.val, method=\"fdr\")\n",
        "\n",
        "\n",
        "\n",
        "# Give row numbers of candidates with both large log-fold change and low adj. p-value\n",
        "diff.idx1 <- which(abs(log2(fc)) > 1)         # trick: via absolute value of log2(fc) we get both phosphopeptides with fc > 2 or 1/2\n",
        "diff.idx2 <- which(p.val.adj < 0.05)          # gives row indices of phosphopeptides with adj. p-value < 0.05\n",
        "diff.idx <- intersect(diff.idx1, diff.idx2)   # intersection gives row indices of differential candidates\n",
        "print(length(diff.idx))\n",
        "\n",
        "# Give row numbers of candidates with more stringent thresholds\n",
        "diff.idx1 <- which(abs(log2(fc)) > 1.25)\n",
        "diff.idx2 <- which(p.val.adj < 0.005)\n",
        "diff.idx <- intersect(diff.idx1, diff.idx2)\n",
        "print(length(diff.idx))"
      ],
      "metadata": {
        "colab": {
          "base_uri": "https://localhost:8080/"
        },
        "id": "FkSVyBO4RxnD",
        "outputId": "686a7463-c017-4e72-cfd4-e1ea5aa485cc"
      },
      "execution_count": 6,
      "outputs": [
        {
          "output_type": "stream",
          "name": "stdout",
          "text": [
            "[1] 961\n",
            "[1] 345\n"
          ]
        }
      ]
    },
    {
      "cell_type": "markdown",
      "source": [
        "# **Prepare the list of interesting candidates**\n",
        "For overrepresentation analysis a list of proteins or genes is needed. Thus, first we have to map the phosphopeptide IDs (row IDs) of our candidates to protein IDs (UniProt IDs). These are the phosphopeptide IDs of our candidates:"
      ],
      "metadata": {
        "id": "xjIBncKrfFGt"
      }
    },
    {
      "cell_type": "code",
      "source": [
        "rownames(dat.abundances2)[diff.idx]"
      ],
      "metadata": {
        "id": "DuuD3MTEfqR7"
      },
      "execution_count": null,
      "outputs": []
    },
    {
      "cell_type": "markdown",
      "source": [
        "Since the UniProt ID is already part of the phosphopeptide IDs we just need to extract them via an R function that employs regular expressions. This function is gsub(), which can substitute or delete parts of a given string specified by a regular expression."
      ],
      "metadata": {
        "id": "wcm7vByPgqju"
      }
    },
    {
      "cell_type": "code",
      "source": [
        "uniprot.ids <- c()\n",
        "for(i in 1:length(diff.idx)){\n",
        "  #print(paste0(\"Original: \", rownames(dat.abundances2)[diff.idx[i]]))\n",
        "  tmp <- gsub(\"_peptide\\\\d+\", \"\", rownames(dat.abundances2)[diff.idx[i]])\n",
        "  #print(paste0(\"After removing '_peptide\\\\d+': \", tmp))\n",
        "\n",
        "  tmp <- gsub(\"-\\\\d+\", \"\", tmp)\n",
        "  #print(paste0(\"After removing '-\\\\d+': \", tmp))\n",
        "\n",
        "  #tmp <- print(strsplit(tmp, \"; \"))\n",
        "  tmp <- strsplit(tmp, \"; \")\n",
        "  #print(\"After splitting:\")\n",
        "  #print(tmp[[1]])\n",
        "  uniprot.ids <- c(uniprot.ids, tmp[[1]])\n",
        "\n",
        "  #print(\"-----------------------\")\n",
        "}\n",
        "uniprot.ids <- unique(uniprot.ids)\n",
        "print(uniprot.ids)\n",
        "print(length(uniprot.ids))\n",
        "\n",
        "write.table(x=uniprot.ids, file=\"uniprot.ids.txt\", quote=F, sep=\"\\t\", row.names=F, col.names=F)"
      ],
      "metadata": {
        "id": "Es5yzdGyhv6N"
      },
      "execution_count": null,
      "outputs": []
    },
    {
      "cell_type": "code",
      "source": [
        "id.map <- read.table(\"https://raw.githubusercontent.com/ddz-icb/OmicsDataAnalysisCourse/main/data/idmapping_2023_11_21_to_GeneID.tsv\",\n",
        "                            header=T,\n",
        "                            sep=\"\\t\")\n",
        "head(id.map)\n",
        "\n",
        "entrez.ids <- id.map[id.map$From %in% uniprot.ids,\"To\"]\n",
        "print(entrez.ids)\n",
        "length(entrez.ids)\n"
      ],
      "metadata": {
        "id": "cCsCnspb6m_v"
      },
      "execution_count": null,
      "outputs": []
    },
    {
      "cell_type": "markdown",
      "source": [
        "# **GO-based overrepresentation analysis**\n",
        "In order to perform Gene Ontology(GO)-based overrepresentation analysis (\"GO-analysis\" or \"GO-ORA\") various R packages can be used. E.g. the package \"topGO\" is popular and widely used. To use topGO in Google Colab we have to install it and the package \"org.Mm.eg.db\", which is a gene database for the species mus musculus (specific databases for all main species are available)."
      ],
      "metadata": {
        "id": "QXjmck6yR_L_"
      }
    },
    {
      "cell_type": "code",
      "source": [
        "# Warning: Installation of the two packages takes ca. 8 minutes in Colab!\n",
        "#setRepositories(ind=1:5)\n",
        "#install.packages(\"topGO\")\n",
        "#install.packages(\"org.Mm.eg.db\")\n",
        "library(topGO)"
      ],
      "metadata": {
        "id": "1EyaX6spSrK8"
      },
      "execution_count": null,
      "outputs": []
    },
    {
      "cell_type": "markdown",
      "source": [
        "Select and prepare the appropriate gene annotation via the annFUN.org() function. We have to specify the GO domain, i.e. \"biological process\" (BP), \"cellular component\" (CC) or \"molecular function\" (MF). Moreover we have to specify the apropriate speciec-specific gene database and the type of gene IDs for our input gene set."
      ],
      "metadata": {
        "id": "5VjqZ3pOIV1N"
      }
    },
    {
      "cell_type": "code",
      "source": [
        "gene.annotation <- annFUN.org(whichOnto=\"BP\",\n",
        "                              feasibleGenes=NULL,\n",
        "                              mapping=\"org.Mm.eg.db\",\n",
        "                              ID=\"entrez\")"
      ],
      "metadata": {
        "id": "iMjLn70LIYw3"
      },
      "execution_count": null,
      "outputs": []
    },
    {
      "cell_type": "markdown",
      "source": [
        "Prepare our candidate list in a topGo-specific format..."
      ],
      "metadata": {
        "id": "e-D49lfkJd6U"
      }
    },
    {
      "cell_type": "code",
      "source": [
        "allGenes <- unique(unlist(gene.annotation))\n",
        "geneList <- factor(as.integer(allGenes %in% entrez.ids))\n",
        "names(geneList) <- allGenes"
      ],
      "metadata": {
        "id": "3NEEjwjsJfdH"
      },
      "execution_count": 13,
      "outputs": []
    },
    {
      "cell_type": "markdown",
      "source": [
        "Prepare a topGO object..."
      ],
      "metadata": {
        "id": "ViO0Za1yKLzx"
      }
    },
    {
      "cell_type": "code",
      "source": [
        "sampleGOdata <- new(\"topGOdata\",\n",
        "                    ontology=\"BP\",\n",
        "                    allGenes=geneList,\n",
        "                    nodeSize=5,\n",
        "                    annot=annFUN.org,\n",
        "                    mapping=\"org.Mm.eg.db\",\n",
        "                    ID=\"entrez\")"
      ],
      "metadata": {
        "id": "y1G1iFthKNMW"
      },
      "execution_count": null,
      "outputs": []
    },
    {
      "cell_type": "markdown",
      "source": [
        "Compute the Fisher test using our candidate list and the compiled gene and GO information stored in the topGO object."
      ],
      "metadata": {
        "id": "A7eediI1Kxpg"
      }
    },
    {
      "cell_type": "code",
      "source": [
        "resultFisher <- runTest(object=sampleGOdata,\n",
        "                        algorithm=\"classic\",\n",
        "                        statistic = \"fisher\")"
      ],
      "metadata": {
        "id": "QbXjh6X3K20F"
      },
      "execution_count": null,
      "outputs": []
    },
    {
      "cell_type": "markdown",
      "source": [
        "Adjust p-values and filter test results..."
      ],
      "metadata": {
        "id": "w1P0QCbRK-dq"
      }
    },
    {
      "cell_type": "code",
      "source": [
        "score.adj <- p.adjust(resultFisher@score, method=\"fdr\")\n",
        "print(length(score.adj))\n",
        "topNodes <- sum(score.adj < 0.01, na.rm=T)\n",
        "print(topNodes)"
      ],
      "metadata": {
        "id": "y6xnBMhzLAVL"
      },
      "execution_count": null,
      "outputs": []
    },
    {
      "cell_type": "markdown",
      "source": [
        "Compile a results table for the filtered top nodes (i.e. GO terms)..."
      ],
      "metadata": {
        "id": "wfedAfd9LTLz"
      }
    },
    {
      "cell_type": "code",
      "source": [
        "resTable <- GenTable(sampleGOdata,\n",
        "                     Fisher=resultFisher,\n",
        "                     topNodes=topNodes,\n",
        "                     numChar=200)\n",
        "\n",
        "FDR <- p.adjust(resTable$Fisher, method=\"fdr\")\n",
        "resTable <- cbind(resTable, FDR)\n",
        "resTable <- resTable[order(resTable$FDR, decreasing=F),]\n",
        "\n",
        "print(colnames(resTable))\n",
        "resTable2 <- resTable[resTable$Annotated < 100,c(\"Term\", \"Annotated\", \"FDR\")]\n",
        "print(resTable2[1:20,c(\"Term\", \"FDR\")])"
      ],
      "metadata": {
        "id": "WaG9Lo6KLVih"
      },
      "execution_count": null,
      "outputs": []
    },
    {
      "cell_type": "markdown",
      "source": [
        "Visualize the top 10 results as bar plot:"
      ],
      "metadata": {
        "id": "rourxIwBbFAb"
      }
    },
    {
      "cell_type": "code",
      "source": [
        "options(repr.plot.width=15, repr.plot.height=10)\n",
        "par(mar=c(5, 33, 4, 0))\n",
        "p <- barplot(-log10(resTable2[1:10,\"FDR\"]), names.arg=resTable2[1:10,\"Term\"], horiz=T, axes=F, las=1, cex.names=1.5, cex.main=3, font=2, main=\"p-values of top 10 GO-terms\")\n",
        "text(x=-log10(resTable2[1:10,\"FDR\"]) - 1, y=p, labels=round(resTable2[1:10,\"FDR\"],11), font=2, cex=2)"
      ],
      "metadata": {
        "id": "pa-EU1WEbMMl"
      },
      "execution_count": null,
      "outputs": []
    },
    {
      "cell_type": "markdown",
      "source": [
        "# **Reactome-based overrepresentation**\n",
        "In order to perform Reactome-based overrepresentation analysis (\"Reactome-analysis\" or \"Reactome-ORA\") in R..."
      ],
      "metadata": {
        "id": "RbADIrv-TqIW"
      }
    },
    {
      "cell_type": "code",
      "source": [
        "# Warning: Installation of the package takes ca. 20 minutes in Colab!\n",
        "#setRepositories(ind=1:5)\n",
        "#install.packages(\"ReactomePA\")\n",
        "library(\"ReactomePA\")"
      ],
      "metadata": {
        "id": "i1LKz-uZUBH7"
      },
      "execution_count": null,
      "outputs": []
    },
    {
      "cell_type": "markdown",
      "source": [
        "ReactomePA is much easier to use than topGO. The enrichPathway() function is used to make all settings (organism, cutoffs, sizes of terms) and pass our input set of candidate genes."
      ],
      "metadata": {
        "id": "GOWhKp63qg_P"
      }
    },
    {
      "cell_type": "code",
      "source": [
        "reactome.res <- enrichPathway(entrez.ids,\n",
        "                              organism=\"mouse\",\n",
        "                              pvalueCutoff=1.0,\n",
        "                              pAdjustMethod = \"BH\",\n",
        "                              qvalueCutoff = 0.01,\n",
        "                              minGSSize = 10,\n",
        "                              maxGSSize = 707)"
      ],
      "metadata": {
        "id": "8JlQcB2Jqk5e"
      },
      "execution_count": 20,
      "outputs": []
    },
    {
      "cell_type": "markdown",
      "source": [
        "The results are already available as a sorted table. We can directly index the results table for the top 10 pathways and the most informative columns."
      ],
      "metadata": {
        "id": "yQVLNr3wS5M0"
      }
    },
    {
      "cell_type": "code",
      "source": [
        "reactome.res2 <- reactome.res[1:10,c(\"Description\", \"p.adjust\")]\n",
        "reactome.res2"
      ],
      "metadata": {
        "id": "hKzXmponq5ji"
      },
      "execution_count": null,
      "outputs": []
    },
    {
      "cell_type": "markdown",
      "source": [
        "Results visualization:"
      ],
      "metadata": {
        "id": "2D4lPsecsOA1"
      }
    },
    {
      "cell_type": "code",
      "source": [
        "options(repr.plot.width=15, repr.plot.height=10)\n",
        "par(mar=c(5, 33, 4, 0))\n",
        "p <- barplot(-log10(reactome.res2[,\"p.adjust\"]), names.arg=reactome.res2[,\"Description\"], horiz=T, axes=F, las=1, cex.names=1.5, cex.main=3, font=2, main=\"top 10 Reactome-pathways\")\n",
        "text(x=-log10(reactome.res2[,\"p.adjust\"]) - 1, y=p, labels=round(reactome.res2[,\"p.adjust\"],10), font=2, cex=2)"
      ],
      "metadata": {
        "id": "cRc1DBJysUxa"
      },
      "execution_count": null,
      "outputs": []
    }
  ]
}