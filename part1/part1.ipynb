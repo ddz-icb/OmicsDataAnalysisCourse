{
  "nbformat": 4,
  "nbformat_minor": 0,
  "metadata": {
    "colab": {
      "provenance": []
    },
    "kernelspec": {
      "name": "ir",
      "display_name": "R"
    },
    "language_info": {
      "name": "R"
    }
  },
  "cells": [
    {
      "cell_type": "markdown",
      "source": [
        "# **Importing data**\n",
        "\n",
        "Import data from GitHub:"
      ],
      "metadata": {
        "id": "rNiXmxdI0Cpu"
      }
    },
    {
      "cell_type": "code",
      "execution_count": null,
      "metadata": {
        "id": "BBpKbSm3tXh2"
      },
      "outputs": [],
      "source": [
        "# this is a comment, which is ignored by R\n",
        "dat.abundances <- read.table(\"https://raw.githubusercontent.com/ddz-icb/OmicsDataAnalysisCourse/main/data/dat.abundances.txt\",    # URL to file with normalized expression data in our GitHub repository\n",
        "                            header=T,                                                                                             # file has a header line\n",
        "                            sep=\"\\t\")                                                                                             # columns are separated by tabs (also common: ',' and ';')"
      ]
    },
    {
      "cell_type": "markdown",
      "source": [
        "Set IDs from first column as row names and delete them afterwards:"
      ],
      "metadata": {
        "id": "c0m_CVGQg2YN"
      }
    },
    {
      "cell_type": "code",
      "source": [
        "rownames(dat.abundances) <- dat.abundances[,1]        # set rownames to information from first column\n",
        "dat.abundances <- data.matrix(dat.abundances[,-1])    # delete first column and change \"data frame\" to numeric \"data matrix\""
      ],
      "metadata": {
        "id": "PvwhouSYg73B"
      },
      "execution_count": null,
      "outputs": []
    },
    {
      "cell_type": "markdown",
      "source": [
        "Import 2 other files from GitHub:"
      ],
      "metadata": {
        "id": "ctisgeCWmmka"
      }
    },
    {
      "cell_type": "code",
      "source": [
        "# file with NOT normalized expression data\n",
        "dat.nonorm <- read.table(\"https://raw.githubusercontent.com/ddz-icb/OmicsDataAnalysisCourse/main/data/dat.nonorm.txt\",\n",
        "                            header=T,\n",
        "                            sep=\"\\t\")\n",
        "rownames(dat.nonorm) <- dat.nonorm[,1]\n",
        "dat.nonorm <- data.matrix(dat.nonorm[,-1])\n",
        "\n",
        "\n",
        "# file with normalized data and extended information\n",
        "dat.ext <- read.table(\"https://raw.githubusercontent.com/ddz-icb/OmicsDataAnalysisCourse/main/data/dat.ext.txt\",\n",
        "                            header=T,\n",
        "                            sep=\"\\t\")"
      ],
      "metadata": {
        "id": "oB_8q3zam996"
      },
      "execution_count": null,
      "outputs": []
    },
    {
      "cell_type": "markdown",
      "source": [
        "# **Data inspection**\n",
        "Get dimensions of data matrix:"
      ],
      "metadata": {
        "id": "Aw-h5o3zftTb"
      }
    },
    {
      "cell_type": "code",
      "source": [
        "nrow(dat.abundances)      # gives number of rows (= phosphopeptides)\n",
        "ncol(dat.abundances)      # gives number of columns (= samples)"
      ],
      "metadata": {
        "id": "-xk5IdOdfz70"
      },
      "execution_count": null,
      "outputs": []
    },
    {
      "cell_type": "markdown",
      "source": [
        "Let's inspect data content:"
      ],
      "metadata": {
        "id": "FjfHKeZEhV3w"
      }
    },
    {
      "cell_type": "code",
      "source": [
        "head(dat.abundances)                # gives first 6 rows\n",
        "tail(dat.abundances)                # gives last 6 rows\n",
        "print(dat.abundances[1000:1005,5:8])   # prints defined rows and columns"
      ],
      "metadata": {
        "id": "0FKOcjzEhbFt"
      },
      "execution_count": null,
      "outputs": []
    },
    {
      "cell_type": "markdown",
      "source": [
        "Further data inspection:"
      ],
      "metadata": {
        "id": "oygGwFj0Lmwu"
      }
    },
    {
      "cell_type": "code",
      "source": [
        "max(dat.abundances, na.rm=T)\n",
        "min(dat.abundances, na.rm=T)\n",
        "median(dat.abundances, na.rm=T)\n",
        "mean(dat.abundances, na.rm=T)\n",
        "table(is.na(dat.abundances))\n",
        "summary(dat.abundances)"
      ],
      "metadata": {
        "id": "rKj_u3hOLsXm"
      },
      "execution_count": null,
      "outputs": []
    },
    {
      "cell_type": "markdown",
      "source": [
        "Inspecting additional information:"
      ],
      "metadata": {
        "id": "8iUVT4vbELON"
      }
    },
    {
      "cell_type": "code",
      "source": [
        "print(dat.ext[1:10,])"
      ],
      "metadata": {
        "id": "yVM_86mREdaU"
      },
      "execution_count": null,
      "outputs": []
    },
    {
      "cell_type": "markdown",
      "source": [
        "# **Ensuring data validity: removing meaningless data**\n",
        "Despite enrichment, there are also non-phosphorylated peptides in the data set. Give rows with phosphopeptides and keep only phosphorylated peptides:"
      ],
      "metadata": {
        "id": "5ooazw-AFAb8"
      }
    },
    {
      "cell_type": "code",
      "source": [
        "# give row numbers with phosphopeptides\n",
        "phospep.idx <- grep(\"Phospho\", dat.ext$Modifications)   # grep() gives all row numbers containing the given pattern in column 'Modifications'\n",
        "print(phospep.idx[1:10])    # give first 10 line numbers of phosphopeptides\n",
        "\n",
        "# keep only phospopeptides\n",
        "dat.abundances <- dat.abundances[phospep.idx,]\n",
        "dat.nonorm <- dat.nonorm[phospep.idx,]\n",
        "dat.ext <- dat.ext[phospep.idx,]\n",
        "print(nrow(dat.abundances))\n",
        "print(nrow(dat.nonorm))\n",
        "print(nrow(dat.ext))"
      ],
      "metadata": {
        "colab": {
          "base_uri": "https://localhost:8080/"
        },
        "id": "7LAsn9HtFWiL",
        "outputId": "6970c1aa-8611-4eb9-d922-17822c2cdbe2"
      },
      "execution_count": null,
      "outputs": [
        {
          "output_type": "stream",
          "name": "stdout",
          "text": [
            " [1]  1  2  3  4  5  6  7  8  9 10\n",
            "[1] 15210\n",
            "[1] 15210\n",
            "[1] 15210\n"
          ]
        }
      ]
    },
    {
      "cell_type": "markdown",
      "source": [
        "# **Normalization**\n",
        "Inspect not normalized data:"
      ],
      "metadata": {
        "id": "i0Vb4D5gWcBm"
      }
    },
    {
      "cell_type": "code",
      "source": [
        "#options(repr.plot.width=10, repr.plot.height=10, na.action=\"na.rm\")\n",
        "options(repr.plot.width=10, repr.plot.height=10)\n",
        "boxplot(dat.nonorm)"
      ],
      "metadata": {
        "id": "j6fw1_SlWpr0"
      },
      "execution_count": null,
      "outputs": []
    },
    {
      "cell_type": "markdown",
      "source": [
        "Scaling needed! Perform log2-transformation before plotting boxplots:"
      ],
      "metadata": {
        "id": "-i_bnqIuWv6f"
      }
    },
    {
      "cell_type": "code",
      "source": [
        "boxplot(log2(dat.nonorm))     # log2() computes the respective log2-value for all values in the data matrix"
      ],
      "metadata": {
        "id": "Lktg0qTmW2J-"
      },
      "execution_count": null,
      "outputs": []
    },
    {
      "cell_type": "markdown",
      "source": [
        "Inspect the effect of normalization:"
      ],
      "metadata": {
        "id": "XSwdnkYUW8vs"
      }
    },
    {
      "cell_type": "code",
      "source": [
        "boxplot(log2(dat.abundances))"
      ],
      "metadata": {
        "id": "7wzJJCopXC1d"
      },
      "execution_count": null,
      "outputs": []
    },
    {
      "cell_type": "markdown",
      "source": [
        "Using other normalization methods than Proteome Discoverer:"
      ],
      "metadata": {
        "id": "N722C8cMbOxC"
      }
    },
    {
      "cell_type": "code",
      "source": [
        "#install.packages(\"BiocManager\")\n",
        "#BiocManager::install(\"limma\")\n",
        "dat.norm <- limma::normalizeBetweenArrays(log2(dat.nonorm), method=\"quantile\")\n",
        "boxplot(dat.norm)"
      ],
      "metadata": {
        "id": "zc6_Htt3Ykny"
      },
      "execution_count": null,
      "outputs": []
    },
    {
      "cell_type": "markdown",
      "source": [
        "# **Dealing with missing values (imputation)**\n",
        "Removing all rows with NAs:"
      ],
      "metadata": {
        "id": "Oq0dsrrhliac"
      }
    },
    {
      "cell_type": "code",
      "source": [
        "nrow(na.omit(dat.abundances))   # na.omit() removes rows with at least on 'NA'"
      ],
      "metadata": {
        "id": "qhuOnZYyl57l"
      },
      "execution_count": null,
      "outputs": []
    },
    {
      "cell_type": "markdown",
      "source": [
        "Performing group-specific imputation:"
      ],
      "metadata": {
        "id": "EsRz_yoxTnWQ"
      }
    },
    {
      "cell_type": "code",
      "source": [
        "basal.idx <- grep(\"Basal\", colnames(dat.abundances))\n",
        "#print(basal.idx)\n",
        "insulin.idx <- grep(\"Insulin\", colnames(dat.abundances))\n",
        "#print(insulin.idx)\n",
        "dat.abundances2 <- dat.abundances\n",
        "print(dat.abundances2[1:10,])\n",
        "#for(i in 1:10){\n",
        "for(i in 1:nrow(dat.abundances2)){\n",
        "    #print(i)\n",
        "    if(sum(is.na(dat.abundances2[i,basal.idx])) == 1){\n",
        "      na.idx <- which(is.na(dat.abundances2[i,basal.idx]))\n",
        "      #dat.abundances2[i, basal.idx[na.idx]] <- 1\n",
        "      dat.abundances2[i, basal.idx[na.idx]] <- mean(dat.abundances2[i, basal.idx], na.rm=T)\n",
        "    }\n",
        "\n",
        "    if(sum(is.na(dat.abundances2[i,insulin.idx])) == 1){\n",
        "      na.idx <- which(is.na(dat.abundances2[i,insulin.idx]))\n",
        "      #dat.abundances2[i, insulin.idx[na.idx]] <- 1\n",
        "      dat.abundances2[i, insulin.idx[na.idx]] <- mean(dat.abundances2[i, insulin.idx], na.rm=T)\n",
        "    }\n",
        "}\n",
        "cat(\"\\n\\n\\n\")\n",
        "print(dat.abundances2[1:10,])\n",
        "cat(\"\\n\\n\\n\")\n",
        "nrow(na.omit(dat.abundances2))"
      ],
      "metadata": {
        "id": "450_ldI-NLvf"
      },
      "execution_count": null,
      "outputs": []
    },
    {
      "cell_type": "markdown",
      "source": [
        "Inspect the effect of imputation & removing rows with remaining NAs:"
      ],
      "metadata": {
        "id": "dvt4tygP1Zgz"
      }
    },
    {
      "cell_type": "code",
      "source": [
        "hist(log2(na.omit(dat.abundances2)))\n",
        "hist(log2(na.omit(dat.abundances)))"
      ],
      "metadata": {
        "id": "Zkj4mPhn1jyM"
      },
      "execution_count": null,
      "outputs": []
    }
  ]
}
