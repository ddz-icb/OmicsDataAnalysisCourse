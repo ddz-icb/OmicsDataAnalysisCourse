{
  "nbformat": 4,
  "nbformat_minor": 0,
  "metadata": {
    "colab": {
      "provenance": []
    },
    "kernelspec": {
      "name": "ir",
      "display_name": "R"
    },
    "language_info": {
      "name": "R"
    }
  },
  "cells": [
    {
      "cell_type": "markdown",
      "source": [
        "# **Importing data & pre-processing**\n",
        "Import data from GitHub & set row names (same as in part1):"
      ],
      "metadata": {
        "id": "okl5d_4-RPGC"
      }
    },
    {
      "cell_type": "code",
      "execution_count": 2,
      "metadata": {
        "id": "6cUJCZ50Q3YY"
      },
      "outputs": [],
      "source": [
        "# import file with NOT normalized expression data\n",
        "dat.abundances <- read.table(\"https://raw.githubusercontent.com/ddz-icb/OmicsDataAnalysisCourse/main/data/dat.abundances.txt\",\n",
        "                            header=T,\n",
        "                            sep=\"\\t\")\n",
        "rownames(dat.abundances) <- dat.abundances[,1]        # set rownames to IDs from first column\n",
        "dat.abundances <- data.matrix(dat.abundances[,-1])    # delete first column and change \"data frame\" to numeric \"data matrix\"\n",
        "\n",
        "\n",
        "\n",
        "# import file with normalized data and extended information\n",
        "dat.ext <- read.table(\"https://raw.githubusercontent.com/ddz-icb/OmicsDataAnalysisCourse/main/data/dat.ext.txt\",\n",
        "                            header=T,\n",
        "                            sep=\"\\t\")"
      ]
    },
    {
      "cell_type": "markdown",
      "source": [
        "Keep only phosphorylated peptides (same as in part1):"
      ],
      "metadata": {
        "id": "091LX_pDRYip"
      }
    },
    {
      "cell_type": "code",
      "source": [
        "# give row numbers with phosphopeptides\n",
        "phospep.idx <- grep(\"Phospho\", dat.ext$Modifications)   # grep() gives all row numbers containing the given pattern in column 'Modifications'\n",
        "\n",
        "# keep only phospopeptides\n",
        "dat.abundances <- dat.abundances[phospep.idx,]\n",
        "#dat.nonorm <- dat.nonorm[phospep.idx,]\n",
        "dat.ext <- dat.ext[phospep.idx,]"
      ],
      "metadata": {
        "id": "dK6gFE7mRc-Y"
      },
      "execution_count": 3,
      "outputs": []
    },
    {
      "cell_type": "markdown",
      "source": [
        "In part1, we have determined that the normalization results of the device software are OK and that we can use them. Therefore, we do not need to perform our own raw data normalization. However, we want to perform a group-specific imputation and replace isolated missing values to avoid excluding almost completely quantified phosphopeptides in some analysis steps. For this, the same imputation as in part1 is performed."
      ],
      "metadata": {
        "id": "OAgCHu05RgIM"
      }
    },
    {
      "cell_type": "code",
      "source": [
        "# Give row vectors with group-specific column numbers\n",
        "basal.idx <- grep(\"Basal\", colnames(dat.abundances))\n",
        "insulin.idx <- grep(\"Insulin\", colnames(dat.abundances))\n",
        "\n",
        "\n",
        "\n",
        "dat.abundances2 <- dat.abundances\n",
        "for(i in 1:nrow(dat.abundances2)){\n",
        "    if(sum(is.na(dat.abundances2[i,basal.idx])) == 1){\n",
        "      na.idx <- which(is.na(dat.abundances2[i,basal.idx]))\n",
        "      dat.abundances2[i, basal.idx[na.idx]] <- mean(dat.abundances2[i, basal.idx], na.rm=T)\n",
        "    }\n",
        "\n",
        "    if(sum(is.na(dat.abundances2[i,insulin.idx])) == 1){\n",
        "      na.idx <- which(is.na(dat.abundances2[i,insulin.idx]))\n",
        "      dat.abundances2[i, insulin.idx[na.idx]] <- mean(dat.abundances2[i, insulin.idx], na.rm=T)\n",
        "    }\n",
        "}\n",
        "nrow(dat.abundances)\n",
        "nrow(na.omit(dat.abundances))   # na.omit() removes rows with at least on 'NA'\n",
        "nrow(na.omit(dat.abundances2))\n",
        "\n",
        "dat.abundances2 <- na.omit(dat.abundances2)   # delete phosphopeptides that still have missing values despite imputation"
      ],
      "metadata": {
        "id": "UUlpriK-Rkek"
      },
      "execution_count": null,
      "outputs": []
    },
    {
      "cell_type": "markdown",
      "source": [
        "# **Identification of differential candidates**\n",
        "Calculate p-values and fold changes in order to identify differential candidates (same as in part2)."
      ],
      "metadata": {
        "id": "goytpK-ERpNB"
      }
    },
    {
      "cell_type": "code",
      "source": [
        "phospep.number <- nrow(dat.abundances2)\n",
        "\n",
        "# define empty vectors for storing...\n",
        "fc <- vector(length=phospep.number, mode=\"numeric\")\n",
        "p.val <- vector(length=phospep.number, mode=\"numeric\")\n",
        "p.val.adj <- vector(length=phospep.number, mode=\"numeric\")\n",
        "\n",
        "# adopt IDs of vector elements from row IDs of dat.abundances2\n",
        "names(fc) <- rownames(dat.abundances2)\n",
        "names(p.val) <- rownames(dat.abundances2)\n",
        "names(p.val.adj) <- rownames(dat.abundances2)\n",
        "\n",
        "\n",
        "\n",
        "# Calculate fold changes\n",
        "for(i in 1:phospep.number){\n",
        "    basal.mean <- mean(dat.abundances2[i, basal.idx])\n",
        "    insulin.mean <- mean(dat.abundances2[i, insulin.idx])\n",
        "\n",
        "    fc[i] <- insulin.mean / basal.mean\n",
        "}\n",
        "\n",
        "\n",
        "\n",
        "# Calculate p-values and adjusted p-values\n",
        "for(i in 1:phospep.number){\n",
        "    p.val[i] <- t.test(log2(dat.abundances2[i, basal.idx]), log2(dat.abundances2[i, insulin.idx]))$p.value\n",
        "}\n",
        "p.val.adj <- p.adjust(p.val, method=\"fdr\")\n",
        "\n",
        "\n",
        "\n",
        "# Give row numbers of candidates with both large log-fold change and low adj. p-value\n",
        "diff.idx1 <- which(abs(log2(fc)) > 1)         # trick: via absolute value of log2(fc) we get both phosphopeptides with fc > 2 or 1/2\n",
        "diff.idx2 <- which(p.val.adj < 0.05)          # gives row indices of phosphopeptides with adj. p-value < 0.05\n",
        "diff.idx <- intersect(diff.idx1, diff.idx2)   # intersection gives row indices of differential candidates\n",
        "print(length(diff.idx))\n",
        "\n",
        "# Give row numbers of candidates with more stringent thresholds\n",
        "diff.idx1 <- which(abs(log2(fc)) > 1.25)\n",
        "diff.idx2 <- which(p.val.adj < 0.005)\n",
        "diff.idx <- intersect(diff.idx1, diff.idx2)\n",
        "print(length(diff.idx))"
      ],
      "metadata": {
        "id": "FkSVyBO4RxnD"
      },
      "execution_count": null,
      "outputs": []
    },
    {
      "cell_type": "markdown",
      "source": [
        "# **Prepare the list of interesting candidates**\n",
        "For overrepresentation analysis a list of proteins or genes is needed. Thus, first we have to map the phosphopeptide IDs (row IDs) of our candidates to protein IDs (UniProt IDs). These are the phosphopeptide IDs of our candidates:"
      ],
      "metadata": {
        "id": "xjIBncKrfFGt"
      }
    },
    {
      "cell_type": "code",
      "source": [
        "rownames(dat.abundances2)[diff.idx]"
      ],
      "metadata": {
        "id": "DuuD3MTEfqR7"
      },
      "execution_count": null,
      "outputs": []
    },
    {
      "cell_type": "markdown",
      "source": [
        "Since the UniProt ID is already part of the phosphopeptide IDs we just need to extract them via an R function that employs regular expressions. This function is gsub(), which can substitute or delete parts of a given string specified by a regular expression."
      ],
      "metadata": {
        "id": "wcm7vByPgqju"
      }
    },
    {
      "cell_type": "code",
      "source": [
        "uniprot.ids <- c()\n",
        "for(i in 1:length(diff.idx)){\n",
        "  #print(paste0(\"Original: \", rownames(dat.abundances2)[diff.idx[i]]))\n",
        "  tmp <- gsub(\"_peptide\\\\d+\", \"\", rownames(dat.abundances2)[diff.idx[i]])\n",
        "  #print(paste0(\"After removing '_peptide\\\\d+': \", tmp))\n",
        "\n",
        "  tmp <- gsub(\"-\\\\d+\", \"\", tmp)\n",
        "  #print(paste0(\"After removing '-\\\\d+': \", tmp))\n",
        "\n",
        "  #tmp <- print(strsplit(tmp, \"; \"))\n",
        "  tmp <- strsplit(tmp, \"; \")\n",
        "  #print(\"After splitting:\")\n",
        "  #print(tmp[[1]])\n",
        "  uniprot.ids <- c(uniprot.ids, tmp[[1]])\n",
        "\n",
        "  #print(\"-----------------------\")\n",
        "}\n",
        "uniprot.ids <- unique(uniprot.ids)\n",
        "print(uniprot.ids)\n",
        "print(length(uniprot.ids))\n",
        "\n",
        "write.table(x=uniprot.ids, file=\"uniprot.ids.txt\", quote=F, sep=\"\\t\", row.names=F, col.names=F)"
      ],
      "metadata": {
        "id": "Es5yzdGyhv6N"
      },
      "execution_count": null,
      "outputs": []
    },
    {
      "cell_type": "code",
      "source": [
        "id.map <- read.table(\"https://raw.githubusercontent.com/ddz-icb/OmicsDataAnalysisCourse/main/data/idmapping_2023_11_21_to_GeneID.tsv\",\n",
        "                            header=T,\n",
        "                            sep=\"\\t\")\n",
        "head(id.map)\n",
        "\n",
        "entrez.ids <- id.map[id.map$From %in% uniprot.ids,\"To\"]\n",
        "print(entrez.ids)\n",
        "length(entrez.ids)\n"
      ],
      "metadata": {
        "id": "cCsCnspb6m_v"
      },
      "execution_count": null,
      "outputs": []
    },
    {
      "cell_type": "markdown",
      "source": [
        "# **STRING in R**\n",
        "There is a relatively user-friendly R package in R for STRING network analysis. However, it is generally only of interest for automatic workflows for standard analyses and/or parameter optimizations because the STRING web application is usually more user-friendly."
      ],
      "metadata": {
        "id": "QXjmck6yR_L_"
      }
    },
    {
      "cell_type": "code",
      "source": [
        "# Warning: Installation of the package takes ca. 6 minutes in Colab!\n",
        "setRepositories(ind=1:5)\n",
        "install.packages(\"STRINGdb\")\n",
        "\n",
        "library(STRINGdb)"
      ],
      "metadata": {
        "id": "1EyaX6spSrK8"
      },
      "execution_count": null,
      "outputs": []
    },
    {
      "cell_type": "markdown",
      "source": [
        "Preparation of the UniProt IDs of our candidates as a data frame. Downloading the STRING interactions for our target species (mouse) with confidence threshold = 0.7. Finally, mapping our candidates to the downloaded interactions, discarding candidates without interactions."
      ],
      "metadata": {
        "id": "MaD4Q2Iq85q8"
      }
    },
    {
      "cell_type": "code",
      "source": [
        "uniprot.ids.df <- data.frame(\"protein\"=uniprot.ids)\n",
        "string_db <- STRINGdb$new(species=10090, score_threshold=700)\n",
        "candidates.mapped <- string_db$map(uniprot.ids.df, \"protein\", removeUnmappedRows=T)"
      ],
      "metadata": {
        "id": "N13bVcm487dm"
      },
      "execution_count": null,
      "outputs": []
    },
    {
      "cell_type": "markdown",
      "source": [
        "Next, we want to keep only connected proteins and visualize them."
      ],
      "metadata": {
        "id": "WI2cMo1Y_K_U"
      }
    },
    {
      "cell_type": "code",
      "source": [
        "# get STRING_ids of all proteins in the candidates.mapped object\n",
        "hits <- candidates.mapped$STRING_id[1:length(diff.idx)]\n",
        "\n",
        "# plot network without not connected proteins\n",
        "options(repr.plot.width=20, repr.plot.height=20)\n",
        "string_db$plot_network(hits)"
      ],
      "metadata": {
        "id": "WnNklCqvJjRn"
      },
      "execution_count": null,
      "outputs": []
    },
    {
      "cell_type": "markdown",
      "source": [
        "Network visualization without not connected nodes:"
      ],
      "metadata": {
        "id": "Q5sODNFcJl-W"
      }
    },
    {
      "cell_type": "code",
      "source": [
        "# get all interactions (above confidence threshold) that were found for them\n",
        "interactions <- string_db$get_interactions(hits)\n",
        "# get STRING_ids of proteins with interactions\n",
        "connected <- unique(c(interactions$from, interactions$to))\n",
        "\n",
        "# plot network without not connected proteins\n",
        "options(repr.plot.width=20, repr.plot.height=20)\n",
        "string_db$plot_network(connected)"
      ],
      "metadata": {
        "id": "Zd-r2-Hm_MDM"
      },
      "execution_count": null,
      "outputs": []
    },
    {
      "cell_type": "markdown",
      "source": [
        "As we know, we can carry out an ORA with STRING - this is also possible with the R package:"
      ],
      "metadata": {
        "id": "MSqqw1v-Lpeg"
      }
    },
    {
      "cell_type": "code",
      "source": [
        "ora.results <- string_db$get_enrichment(connected)\n",
        "print(ora.results[ora.results$fdr<1.0e-15, c(\"category\",\"term\",\"description\",\"fdr\")])"
      ],
      "metadata": {
        "id": "dGyZmGF3LsMl"
      },
      "execution_count": null,
      "outputs": []
    },
    {
      "cell_type": "markdown",
      "source": [
        "To further/manually inspect the network it is also possible to get a link for the STRING web application and continue there."
      ],
      "metadata": {
        "id": "L3OVkcmPKIQV"
      }
    },
    {
      "cell_type": "code",
      "source": [
        "string_db$get_link(string_ids=connected, required_score=NULL, network_flavor=\"evidence\")"
      ],
      "metadata": {
        "id": "tZhxTK05DzPQ"
      },
      "execution_count": null,
      "outputs": []
    },
    {
      "cell_type": "markdown",
      "source": [
        "# **WCGNA**\n",
        "In order to perform weighted gene co-expression network analysis (WGCNA) in R the reference R package wgcna can been used."
      ],
      "metadata": {
        "id": "7XBNoHk_6Wk-"
      }
    },
    {
      "cell_type": "code",
      "source": [
        "# Warning: Installation of the package takes ca. 6 minutes in Colab!\n",
        "setRepositories(ind=1:5)\n",
        "install.packages(\"WGCNA\")\n",
        "\n",
        "library(WGCNA)"
      ],
      "metadata": {
        "id": "IEMgYWn_6us-"
      },
      "execution_count": null,
      "outputs": []
    },
    {
      "cell_type": "markdown",
      "source": [
        "Settings recommended by package creators:"
      ],
      "metadata": {
        "id": "AbyqI75AQL2y"
      }
    },
    {
      "cell_type": "code",
      "source": [
        "# The following setting is important, do not omit.\n",
        "options(stringsAsFactors = FALSE);\n",
        "# Allow multi-threading within WGCNA. This helps speed up certain calculations.\n",
        "# At present this call is necessary for the code to work.\n",
        "# Any error here may be ignored but you may want to update WGCNA if you see one.\n",
        "# Caution: skip this line if you run RStudio or other third-party R environments.\n",
        "# See note above.\n",
        "enableWGCNAThreads()\n",
        "# Load the data saved in the first part\n",
        "#lnames = load(file = \"FemaleLiver-01-dataInput.RData\");\n",
        "#The variable lnames contains the names of loaded variables.\n",
        "#lnames"
      ],
      "metadata": {
        "id": "u2Ae9gnpQSuG"
      },
      "execution_count": null,
      "outputs": []
    },
    {
      "cell_type": "markdown",
      "source": [
        "WCGNA provides \"soft thresholding\" as an alternative to \"hard\" correlation threshold for co-expression network construction. For this the \"power\" parameter needs to be optimized. This done in the following code:  "
      ],
      "metadata": {
        "id": "-PPT0XvXQibz"
      }
    },
    {
      "cell_type": "code",
      "source": [
        "# Choose a set of soft-thresholding powers\n",
        "powers <- c(c(1:10), seq(from = 12, to=20, by=2))\n",
        "# Call the network topology analysis function\n",
        "sft <- pickSoftThreshold(t(dat.abundances2), powerVector = powers, verbose = 5)\n",
        "#sft <- pickSoftThreshold(dat.abundances2[diff.idx,], powerVector = powers, verbose = 5)"
      ],
      "metadata": {
        "id": "kOps6IHaQ7j1"
      },
      "execution_count": null,
      "outputs": []
    },
    {
      "cell_type": "markdown",
      "source": [
        "Plot the soft threshold optimization results:"
      ],
      "metadata": {
        "id": "xD9L-aWCRVrT"
      }
    },
    {
      "cell_type": "code",
      "source": [
        "# Plot the results:\n",
        "#sizeGrWindow(9, 5)\n",
        "par(mfrow = c(1,2));\n",
        "options(repr.plot.width=20, repr.plot.height=10)\n",
        "cex1 = 1.9;\n",
        "\n",
        "# Scale-free topology fit index as a function of the soft-thresholding power\n",
        "plot(sft$fitIndices[,1], -sign(sft$fitIndices[,3])*sft$fitIndices[,2],\n",
        "xlab=\"Soft Threshold (power)\",ylab=\"Scale Free Topology Model Fit,signed R^2\",type=\"n\",\n",
        "main = paste(\"Scale independence\"));\n",
        "text(sft$fitIndices[,1], -sign(sft$fitIndices[,3])*sft$fitIndices[,2],\n",
        "labels=powers,cex=cex1,col=\"red\");\n",
        "# this line corresponds to using an R^2 cut-off of h\n",
        "abline(h=0.90,col=\"red\")\n",
        "\n",
        "# Mean connectivity as a function of the soft-thresholding power\n",
        "plot(sft$fitIndices[,1], sft$fitIndices[,5],\n",
        "xlab=\"Soft Threshold (power)\",ylab=\"Mean Connectivity\", type=\"n\",\n",
        "main = paste(\"Mean connectivity\"))\n",
        "text(sft$fitIndices[,1], sft$fitIndices[,5], labels=powers, cex=cex1,col=\"red\")"
      ],
      "metadata": {
        "id": "QIAKL56vRXH1"
      },
      "execution_count": null,
      "outputs": []
    },
    {
      "cell_type": "markdown",
      "source": [
        "Construct the co-expression network & identify modules using \"power = 12\" as this is the lowest power providing good results (above horizontal line in the above plot):"
      ],
      "metadata": {
        "id": "2JUK3oPeR_3v"
      }
    },
    {
      "cell_type": "code",
      "source": [
        "# Runs 1 min in Google Colab\n",
        "net <- blockwiseModules(t(dat.abundances2),\n",
        "                        power = 12,\n",
        "                        TOMType = \"unsigned\",\n",
        "                        minModuleSize = 30,\n",
        "                        reassignThreshold = 0,\n",
        "                        mergeCutHeight = 0.25,\n",
        "                        numericLabels = TRUE,\n",
        "                        pamRespectsDendro = FALSE,\n",
        "                        saveTOMs = TRUE,\n",
        "                        saveTOMFileBase = \"insulinMouseTOM\",\n",
        "                        verbose = 3)"
      ],
      "metadata": {
        "id": "yPAegFL9SLJe"
      },
      "execution_count": null,
      "outputs": []
    },
    {
      "cell_type": "markdown",
      "source": [
        "How many modules were detected and how many phosphopeptides they have?"
      ],
      "metadata": {
        "id": "J9_lOAd7SwRb"
      }
    },
    {
      "cell_type": "code",
      "source": [
        "table(net$colors)"
      ],
      "metadata": {
        "id": "ZQPeXuZbSxyK"
      },
      "execution_count": null,
      "outputs": []
    },
    {
      "cell_type": "markdown",
      "source": [
        "Now let's visualize the modules as dendrograms:"
      ],
      "metadata": {
        "id": "ZfhTaHUxTEHA"
      }
    },
    {
      "cell_type": "code",
      "source": [
        "# Convert labels to colors for plotting\n",
        "mergedColors <- labels2colors(net$colors)\n",
        "# Plot the dendrogram and the module colors underneath\n",
        "plotDendroAndColors(net$dendrograms[[1]],\n",
        "                    mergedColors[net$blockGenes[[1]]],\n",
        "                    \"Module colors\",\n",
        "                    dendroLabels = FALSE,\n",
        "                    hang = 0.03,\n",
        "                    addGuide = TRUE,\n",
        "                    guideHang = 0.05)\n",
        "\n",
        "plotDendroAndColors(net$dendrograms[[2]],\n",
        "                    mergedColors[net$blockGenes[[2]]],\n",
        "                    \"Module colors\",\n",
        "                    dendroLabels = FALSE,\n",
        "                    hang = 0.03,\n",
        "                    addGuide = TRUE,\n",
        "                    guideHang = 0.05)\n",
        "\n",
        "plotDendroAndColors(net$dendrograms[[3]],\n",
        "                    mergedColors[net$blockGenes[[3]]],\n",
        "                    \"Module colors\",\n",
        "                    dendroLabels = FALSE,\n",
        "                    hang = 0.03,\n",
        "                    addGuide = TRUE,\n",
        "                    guideHang = 0.05)"
      ],
      "metadata": {
        "id": "tsz3gKvyTMVp"
      },
      "execution_count": null,
      "outputs": []
    },
    {
      "cell_type": "markdown",
      "source": [
        "Finally, let's inspect a specific module - e.g. the \"magenta\" module. For this, give the peptide IDs of the module and map them to respective UniProt protein IDs. Then, write the UniProt IDs into a file in order to inspect the module e.g. in STRING to check, whether there is any known biological relevance."
      ],
      "metadata": {
        "id": "FrMFDyxiVZnd"
      }
    },
    {
      "cell_type": "code",
      "source": [
        "labels2colors(net$colors)\n",
        "\n",
        "module.idx <- labels2colors(net$colors) == 'magenta'\n",
        "print(net$colors[module.idx])\n",
        "module.ids <- names(net$colors[module.idx])\n",
        "\n",
        "uniprot.ids2 <- c()\n",
        "for(i in 1:length(module.ids)){\n",
        "  tmp <- gsub(\"_peptide\\\\d+\", \"\", module.ids[i])\n",
        "  tmp <- gsub(\"-\\\\d+\", \"\", tmp)\n",
        "  tmp <- strsplit(tmp, \"; \")\n",
        "  uniprot.ids2 <- c(uniprot.ids2, tmp[[1]])\n",
        "}\n",
        "uniprot.ids2 <- unique(uniprot.ids2)\n",
        "print(uniprot.ids2)\n",
        "print(length(uniprot.ids2))\n",
        "\n",
        "write.table(x=uniprot.ids2, file=\"module.uniprot.ids.txt\", quote=F, sep=\"\\t\", row.names=F, col.names=F)"
      ],
      "metadata": {
        "id": "8bTjx_zGVbHq"
      },
      "execution_count": null,
      "outputs": []
    }
  ]
}